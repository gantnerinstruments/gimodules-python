{
 "cells": [
  {
   "cell_type": "code",
   "execution_count": 1,
   "metadata": {},
   "outputs": [],
   "source": [
    "from CloudConnect.GIController import GIController as GINC\n",
    "#import importlib\n",
    "\n",
    "#importlib.reload(GINC)\n",
    "gic = GINC()"
   ]
  },
  {
   "cell_type": "code",
   "execution_count": 2,
   "metadata": {},
   "outputs": [],
   "source": [
    "\n",
    "\n",
    "   "
   ]
  },
  {
   "cell_type": "code",
   "execution_count": 2,
   "metadata": {},
   "outputs": [
    {
     "name": "stdout",
     "output_type": "stream",
     "text": [
      "Name:  Atlas_Stream_Skimmer_All2 Id: 220a7322-6cad-11eb-8c73-02420a000a2c\n",
      "Name:  GhPyr-X Id: 65aad7e6-5ef4-11eb-90de-02420a000a67\n",
      "Name:  WeatherStn-1 Id: 75da5e56-570c-11eb-a16b-02420a000a38\n",
      "Name:  cSi-5 Id: 7905c698-5724-11eb-935e-02420a000a3d\n",
      "Name:  Cabinet-201 Id: 88e2048a-5a6e-11eb-ae05-02420a000a3e\n",
      "Name:  GhPyr-8 Id: b8393ec6-5710-11eb-922f-02420a000a38\n",
      "Name:  GrafanaNotifications Id: d68463aa-8d71-11eb-977f-02420a000a18\n",
      "Name:  BnPyrh-10 Id: e44e5672-5710-11eb-bbdb-02420a000a38\n"
     ]
    }
   ],
   "source": [
    "gic.login('https://174powerglobal.gi-cloud.io', 'admin', '3wTc6X9ibZqI')"
   ]
  },
  {
   "cell_type": "code",
   "execution_count": 3,
   "metadata": {},
   "outputs": [
    {
     "ename": "AttributeError",
     "evalue": "'CloudRequest' object has no attribute 'request_map_res'",
     "output_type": "error",
     "traceback": [
      "\u001b[0;31m---------------------------------------------------------------------------\u001b[0m",
      "\u001b[0;31mAttributeError\u001b[0m                            Traceback (most recent call last)",
      "\u001b[0;32m<ipython-input-3-2cedd92a06f2>\u001b[0m in \u001b[0;36m<module>\u001b[0;34m\u001b[0m\n\u001b[0;32m----> 1\u001b[0;31m \u001b[0mgic\u001b[0m\u001b[0;34m.\u001b[0m\u001b[0mget_variables\u001b[0m\u001b[0;34m(\u001b[0m\u001b[0;34m'220a7322-6cad-11eb-8c73-02420a000a2c'\u001b[0m\u001b[0;34m)\u001b[0m\u001b[0;34m\u001b[0m\u001b[0;34m\u001b[0m\u001b[0m\n\u001b[0m",
      "\u001b[0;32m~/Documents/Git_Projects/gimodules-python/gimodules/CloudConnect/GIController.py\u001b[0m in \u001b[0;36mget_variables\u001b[0;34m(self, stream_id)\u001b[0m\n\u001b[1;32m     48\u001b[0m \u001b[0;34m\u001b[0m\u001b[0m\n\u001b[1;32m     49\u001b[0m         \u001b[0;31m# write var names into lists\u001b[0m\u001b[0;34m\u001b[0m\u001b[0;34m\u001b[0m\u001b[0;34m\u001b[0m\u001b[0m\n\u001b[0;32m---> 50\u001b[0;31m         \u001b[0mself\u001b[0m\u001b[0;34m.\u001b[0m\u001b[0msensor_index\u001b[0m\u001b[0;34m,\u001b[0m \u001b[0mself\u001b[0m\u001b[0;34m.\u001b[0m\u001b[0msensor_names\u001b[0m\u001b[0;34m,\u001b[0m \u001b[0mself\u001b[0m\u001b[0;34m.\u001b[0m\u001b[0msensor_units\u001b[0m\u001b[0;34m,\u001b[0m \u001b[0mself\u001b[0m\u001b[0;34m.\u001b[0m\u001b[0msensor_ids\u001b[0m \u001b[0;34m=\u001b[0m \u001b[0mself\u001b[0m\u001b[0;34m.\u001b[0m\u001b[0mconn_cloud\u001b[0m\u001b[0;34m.\u001b[0m\u001b[0mget_var_mapping\u001b[0m\u001b[0;34m(\u001b[0m\u001b[0mself\u001b[0m\u001b[0;34m.\u001b[0m\u001b[0mconn_cloud\u001b[0m\u001b[0;34m.\u001b[0m\u001b[0mrequest_map_res\u001b[0m\u001b[0;34m)\u001b[0m\u001b[0;34m\u001b[0m\u001b[0;34m\u001b[0m\u001b[0m\n\u001b[0m\u001b[1;32m     51\u001b[0m \u001b[0;34m\u001b[0m\u001b[0m\n\u001b[1;32m     52\u001b[0m         \u001b[0;32mreturn\u001b[0m \u001b[0mself\u001b[0m\u001b[0;34m.\u001b[0m\u001b[0msensor_ids\u001b[0m\u001b[0;34m,\u001b[0m\u001b[0mself\u001b[0m\u001b[0;34m.\u001b[0m\u001b[0msensor_names\u001b[0m\u001b[0;34m\u001b[0m\u001b[0;34m\u001b[0m\u001b[0m\n",
      "\u001b[0;31mAttributeError\u001b[0m: 'CloudRequest' object has no attribute 'request_map_res'"
     ]
    }
   ],
   "source": [
    "gic.get_variables('220a7322-6cad-11eb-8c73-02420a000a2c')"
   ]
  }
 ],
 "metadata": {
  "interpreter": {
   "hash": "f33b636f1cab8149752393618128021c4df038d103a150add8176b9359477abf"
  },
  "kernelspec": {
   "display_name": "Python 3.9.7 64-bit",
   "language": "python",
   "name": "python3"
  },
  "language_info": {
   "codemirror_mode": {
    "name": "ipython",
    "version": 3
   },
   "file_extension": ".py",
   "mimetype": "text/x-python",
   "name": "python",
   "nbconvert_exporter": "python",
   "pygments_lexer": "ipython3",
   "version": "3.7.6"
  },
  "orig_nbformat": 4
 },
 "nbformat": 4,
 "nbformat_minor": 2
}
